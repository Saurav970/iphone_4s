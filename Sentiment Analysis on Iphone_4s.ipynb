{
 "cells": [
  {
   "cell_type": "markdown",
   "id": "a5037b82",
   "metadata": {},
   "source": [
    "## PROJECT 123\n",
    "\n",
    "### PROJECT NAME: Sentiment Analysis On Iphone_4s\n",
    "\n",
    "### GROUP NUMBER: 03\n",
    "\n",
    "### TEAM MEMBERS: \n",
    "\n",
    "* Vrushabh dipak patil\n",
    "* Harsh Suvarna\n",
    "* Sourav Shivkumar Shukla\n",
    "* Deepak Baliram Talekar\n",
    "* Deepak C N\n",
    "* Sowmiya S\n",
    "* Krishna Prasad"
   ]
  },
  {
   "cell_type": "markdown",
   "id": "e89b1236",
   "metadata": {},
   "source": [
    "### Import the Required Packages"
   ]
  },
  {
   "cell_type": "code",
   "execution_count": 38,
   "id": "b7b87406",
   "metadata": {},
   "outputs": [],
   "source": [
    "import numpy as np\n",
    "import pandas as pd\n",
    "\n",
    "# For visualizations\n",
    "import matplotlib.pyplot as plt\n",
    "\n",
    "# For regular expressions\n",
    "import re\n",
    "\n",
    "# For handling string\n",
    "import string\n",
    "\n",
    "# For performing mathematical operations\n",
    "import math\n",
    "\n",
    "#for natural language processing\n",
    "import nltk\n",
    "from textblob import TextBlob"
   ]
  },
  {
   "cell_type": "code",
   "execution_count": 39,
   "id": "538d1e66",
   "metadata": {},
   "outputs": [
    {
     "name": "stdout",
     "output_type": "stream",
     "text": [
      "Shape of data=> (36440, 2)\n"
     ]
    }
   ],
   "source": [
    "# Importing dataset\n",
    "df=pd.read_excel('C:\\\\Users\\\\Admin\\\\Desktop\\\\Apple iphone 4s review\\\\Iphone_4s_Reviews.xlsx') \n",
    "print(\"Shape of data=>\",df.shape)"
   ]
  },
  {
   "cell_type": "code",
   "execution_count": 40,
   "id": "83534b8b",
   "metadata": {},
   "outputs": [
    {
     "data": {
      "text/html": [
       "<div>\n",
       "<style scoped>\n",
       "    .dataframe tbody tr th:only-of-type {\n",
       "        vertical-align: middle;\n",
       "    }\n",
       "\n",
       "    .dataframe tbody tr th {\n",
       "        vertical-align: top;\n",
       "    }\n",
       "\n",
       "    .dataframe thead th {\n",
       "        text-align: right;\n",
       "    }\n",
       "</style>\n",
       "<table border=\"1\" class=\"dataframe\">\n",
       "  <thead>\n",
       "    <tr style=\"text-align: right;\">\n",
       "      <th></th>\n",
       "      <th>Ratings</th>\n",
       "      <th>Reviews</th>\n",
       "    </tr>\n",
       "  </thead>\n",
       "  <tbody>\n",
       "    <tr>\n",
       "      <th>0</th>\n",
       "      <td>5</td>\n",
       "      <td>Big billion day makes this phone even more val...</td>\n",
       "    </tr>\n",
       "    <tr>\n",
       "      <th>1</th>\n",
       "      <td>5</td>\n",
       "      <td>Every thing is fine n more then expected...</td>\n",
       "    </tr>\n",
       "    <tr>\n",
       "      <th>2</th>\n",
       "      <td>2</td>\n",
       "      <td>Has many drawbacks. Apps developed for iPhone ...</td>\n",
       "    </tr>\n",
       "    <tr>\n",
       "      <th>3</th>\n",
       "      <td>5</td>\n",
       "      <td>The phone was in superb condition... im lovin ...</td>\n",
       "    </tr>\n",
       "    <tr>\n",
       "      <th>4</th>\n",
       "      <td>5</td>\n",
       "      <td>Great Product.</td>\n",
       "    </tr>\n",
       "    <tr>\n",
       "      <th>...</th>\n",
       "      <td>...</td>\n",
       "      <td>...</td>\n",
       "    </tr>\n",
       "    <tr>\n",
       "      <th>36435</th>\n",
       "      <td>5</td>\n",
       "      <td>This product is just amazingðŸ˜™</td>\n",
       "    </tr>\n",
       "    <tr>\n",
       "      <th>36436</th>\n",
       "      <td>5</td>\n",
       "      <td>Very tactile\\n \\n \\n\\n\\n\\n</td>\n",
       "    </tr>\n",
       "    <tr>\n",
       "      <th>36437</th>\n",
       "      <td>5</td>\n",
       "      <td>Very good according to price and features!! On...</td>\n",
       "    </tr>\n",
       "    <tr>\n",
       "      <th>36438</th>\n",
       "      <td>5</td>\n",
       "      <td>Original!! Rest no need to explain.. Apple Nam...</td>\n",
       "    </tr>\n",
       "    <tr>\n",
       "      <th>36439</th>\n",
       "      <td>5</td>\n",
       "      <td>At times I lose the screen light and can't see...</td>\n",
       "    </tr>\n",
       "  </tbody>\n",
       "</table>\n",
       "<p>36440 rows × 2 columns</p>\n",
       "</div>"
      ],
      "text/plain": [
       "       Ratings                                            Reviews\n",
       "0            5  Big billion day makes this phone even more val...\n",
       "1            5        Every thing is fine n more then expected...\n",
       "2            2  Has many drawbacks. Apps developed for iPhone ...\n",
       "3            5  The phone was in superb condition... im lovin ...\n",
       "4            5                                     Great Product.\n",
       "...        ...                                                ...\n",
       "36435        5                   This product is just amazingðŸ˜™\n",
       "36436        5                         Very tactile\\n \\n \\n\\n\\n\\n\n",
       "36437        5  Very good according to price and features!! On...\n",
       "36438        5  Original!! Rest no need to explain.. Apple Nam...\n",
       "36439        5  At times I lose the screen light and can't see...\n",
       "\n",
       "[36440 rows x 2 columns]"
      ]
     },
     "execution_count": 40,
     "metadata": {},
     "output_type": "execute_result"
    }
   ],
   "source": [
    "df"
   ]
  },
  {
   "cell_type": "markdown",
   "id": "a6412c06",
   "metadata": {},
   "source": [
    "### Removing the Null and missing values"
   ]
  },
  {
   "cell_type": "code",
   "execution_count": 41,
   "id": "ee1c161f",
   "metadata": {},
   "outputs": [
    {
     "data": {
      "text/plain": [
       "Ratings      0\n",
       "Reviews    755\n",
       "dtype: int64"
      ]
     },
     "execution_count": 41,
     "metadata": {},
     "output_type": "execute_result"
    }
   ],
   "source": [
    "df.isnull().sum()"
   ]
  },
  {
   "cell_type": "code",
   "execution_count": 42,
   "id": "cf6fc488",
   "metadata": {},
   "outputs": [],
   "source": [
    "df.dropna(inplace=True)"
   ]
  },
  {
   "cell_type": "code",
   "execution_count": 43,
   "id": "0564640e",
   "metadata": {},
   "outputs": [
    {
     "data": {
      "text/plain": [
       "Ratings    0\n",
       "Reviews    0\n",
       "dtype: int64"
      ]
     },
     "execution_count": 43,
     "metadata": {},
     "output_type": "execute_result"
    }
   ],
   "source": [
    "df.isnull().sum()"
   ]
  },
  {
   "cell_type": "code",
   "execution_count": 44,
   "id": "dd5ee906",
   "metadata": {},
   "outputs": [
    {
     "data": {
      "text/html": [
       "<div>\n",
       "<style scoped>\n",
       "    .dataframe tbody tr th:only-of-type {\n",
       "        vertical-align: middle;\n",
       "    }\n",
       "\n",
       "    .dataframe tbody tr th {\n",
       "        vertical-align: top;\n",
       "    }\n",
       "\n",
       "    .dataframe thead th {\n",
       "        text-align: right;\n",
       "    }\n",
       "</style>\n",
       "<table border=\"1\" class=\"dataframe\">\n",
       "  <thead>\n",
       "    <tr style=\"text-align: right;\">\n",
       "      <th></th>\n",
       "      <th>Ratings</th>\n",
       "      <th>Reviews</th>\n",
       "    </tr>\n",
       "  </thead>\n",
       "  <tbody>\n",
       "    <tr>\n",
       "      <th>0</th>\n",
       "      <td>5</td>\n",
       "      <td>Big billion day makes this phone even more val...</td>\n",
       "    </tr>\n",
       "    <tr>\n",
       "      <th>1</th>\n",
       "      <td>5</td>\n",
       "      <td>Every thing is fine n more then expected...</td>\n",
       "    </tr>\n",
       "    <tr>\n",
       "      <th>2</th>\n",
       "      <td>2</td>\n",
       "      <td>Has many drawbacks. Apps developed for iPhone ...</td>\n",
       "    </tr>\n",
       "    <tr>\n",
       "      <th>3</th>\n",
       "      <td>5</td>\n",
       "      <td>The phone was in superb condition... im lovin ...</td>\n",
       "    </tr>\n",
       "    <tr>\n",
       "      <th>4</th>\n",
       "      <td>5</td>\n",
       "      <td>Great Product.</td>\n",
       "    </tr>\n",
       "    <tr>\n",
       "      <th>...</th>\n",
       "      <td>...</td>\n",
       "      <td>...</td>\n",
       "    </tr>\n",
       "    <tr>\n",
       "      <th>36435</th>\n",
       "      <td>5</td>\n",
       "      <td>This product is just amazingðŸ˜™</td>\n",
       "    </tr>\n",
       "    <tr>\n",
       "      <th>36436</th>\n",
       "      <td>5</td>\n",
       "      <td>Very tactile\\n \\n \\n\\n\\n\\n</td>\n",
       "    </tr>\n",
       "    <tr>\n",
       "      <th>36437</th>\n",
       "      <td>5</td>\n",
       "      <td>Very good according to price and features!! On...</td>\n",
       "    </tr>\n",
       "    <tr>\n",
       "      <th>36438</th>\n",
       "      <td>5</td>\n",
       "      <td>Original!! Rest no need to explain.. Apple Nam...</td>\n",
       "    </tr>\n",
       "    <tr>\n",
       "      <th>36439</th>\n",
       "      <td>5</td>\n",
       "      <td>At times I lose the screen light and can't see...</td>\n",
       "    </tr>\n",
       "  </tbody>\n",
       "</table>\n",
       "<p>35685 rows × 2 columns</p>\n",
       "</div>"
      ],
      "text/plain": [
       "       Ratings                                            Reviews\n",
       "0            5  Big billion day makes this phone even more val...\n",
       "1            5        Every thing is fine n more then expected...\n",
       "2            2  Has many drawbacks. Apps developed for iPhone ...\n",
       "3            5  The phone was in superb condition... im lovin ...\n",
       "4            5                                     Great Product.\n",
       "...        ...                                                ...\n",
       "36435        5                   This product is just amazingðŸ˜™\n",
       "36436        5                         Very tactile\\n \\n \\n\\n\\n\\n\n",
       "36437        5  Very good according to price and features!! On...\n",
       "36438        5  Original!! Rest no need to explain.. Apple Nam...\n",
       "36439        5  At times I lose the screen light and can't see...\n",
       "\n",
       "[35685 rows x 2 columns]"
      ]
     },
     "execution_count": 44,
     "metadata": {},
     "output_type": "execute_result"
    }
   ],
   "source": [
    "df"
   ]
  },
  {
   "cell_type": "markdown",
   "id": "3d1a0d56",
   "metadata": {},
   "source": [
    "### Labelling Reviews:\n",
    "\n",
    "Now we have 35,685 reviews. The reviews with star rating 4,5,3 are labelled as positive reviews and 1,2 are labelled as negative reviews."
   ]
  },
  {
   "cell_type": "code",
   "execution_count": 45,
   "id": "6aa7c0e3",
   "metadata": {},
   "outputs": [],
   "source": [
    "df['Ratings']=df['Ratings'].astype(int) #convert the star_rating column to int\n",
    "df=df[df['Ratings']!=0]\n",
    "df['label']=np.where(df['Ratings']>=3,1,0) #1-Positve,0-Negative"
   ]
  },
  {
   "cell_type": "code",
   "execution_count": 46,
   "id": "e04b1123",
   "metadata": {
    "scrolled": true
   },
   "outputs": [
    {
     "data": {
      "text/html": [
       "<div>\n",
       "<style scoped>\n",
       "    .dataframe tbody tr th:only-of-type {\n",
       "        vertical-align: middle;\n",
       "    }\n",
       "\n",
       "    .dataframe tbody tr th {\n",
       "        vertical-align: top;\n",
       "    }\n",
       "\n",
       "    .dataframe thead th {\n",
       "        text-align: right;\n",
       "    }\n",
       "</style>\n",
       "<table border=\"1\" class=\"dataframe\">\n",
       "  <thead>\n",
       "    <tr style=\"text-align: right;\">\n",
       "      <th></th>\n",
       "      <th>Ratings</th>\n",
       "      <th>Reviews</th>\n",
       "      <th>label</th>\n",
       "    </tr>\n",
       "  </thead>\n",
       "  <tbody>\n",
       "    <tr>\n",
       "      <th>0</th>\n",
       "      <td>5</td>\n",
       "      <td>Big billion day makes this phone even more val...</td>\n",
       "      <td>1</td>\n",
       "    </tr>\n",
       "    <tr>\n",
       "      <th>1</th>\n",
       "      <td>5</td>\n",
       "      <td>Every thing is fine n more then expected...</td>\n",
       "      <td>1</td>\n",
       "    </tr>\n",
       "    <tr>\n",
       "      <th>2</th>\n",
       "      <td>2</td>\n",
       "      <td>Has many drawbacks. Apps developed for iPhone ...</td>\n",
       "      <td>0</td>\n",
       "    </tr>\n",
       "    <tr>\n",
       "      <th>3</th>\n",
       "      <td>5</td>\n",
       "      <td>The phone was in superb condition... im lovin ...</td>\n",
       "      <td>1</td>\n",
       "    </tr>\n",
       "    <tr>\n",
       "      <th>4</th>\n",
       "      <td>5</td>\n",
       "      <td>Great Product.</td>\n",
       "      <td>1</td>\n",
       "    </tr>\n",
       "    <tr>\n",
       "      <th>...</th>\n",
       "      <td>...</td>\n",
       "      <td>...</td>\n",
       "      <td>...</td>\n",
       "    </tr>\n",
       "    <tr>\n",
       "      <th>36435</th>\n",
       "      <td>5</td>\n",
       "      <td>This product is just amazingðŸ˜™</td>\n",
       "      <td>1</td>\n",
       "    </tr>\n",
       "    <tr>\n",
       "      <th>36436</th>\n",
       "      <td>5</td>\n",
       "      <td>Very tactile\\n \\n \\n\\n\\n\\n</td>\n",
       "      <td>1</td>\n",
       "    </tr>\n",
       "    <tr>\n",
       "      <th>36437</th>\n",
       "      <td>5</td>\n",
       "      <td>Very good according to price and features!! On...</td>\n",
       "      <td>1</td>\n",
       "    </tr>\n",
       "    <tr>\n",
       "      <th>36438</th>\n",
       "      <td>5</td>\n",
       "      <td>Original!! Rest no need to explain.. Apple Nam...</td>\n",
       "      <td>1</td>\n",
       "    </tr>\n",
       "    <tr>\n",
       "      <th>36439</th>\n",
       "      <td>5</td>\n",
       "      <td>At times I lose the screen light and can't see...</td>\n",
       "      <td>1</td>\n",
       "    </tr>\n",
       "  </tbody>\n",
       "</table>\n",
       "<p>35685 rows × 3 columns</p>\n",
       "</div>"
      ],
      "text/plain": [
       "       Ratings                                            Reviews  label\n",
       "0            5  Big billion day makes this phone even more val...      1\n",
       "1            5        Every thing is fine n more then expected...      1\n",
       "2            2  Has many drawbacks. Apps developed for iPhone ...      0\n",
       "3            5  The phone was in superb condition... im lovin ...      1\n",
       "4            5                                     Great Product.      1\n",
       "...        ...                                                ...    ...\n",
       "36435        5                   This product is just amazingðŸ˜™      1\n",
       "36436        5                         Very tactile\\n \\n \\n\\n\\n\\n      1\n",
       "36437        5  Very good according to price and features!! On...      1\n",
       "36438        5  Original!! Rest no need to explain.. Apple Nam...      1\n",
       "36439        5  At times I lose the screen light and can't see...      1\n",
       "\n",
       "[35685 rows x 3 columns]"
      ]
     },
     "execution_count": 46,
     "metadata": {},
     "output_type": "execute_result"
    }
   ],
   "source": [
    "df"
   ]
  },
  {
   "cell_type": "markdown",
   "id": "2047e0a4",
   "metadata": {},
   "source": [
    "# Pre-Processing"
   ]
  },
  {
   "cell_type": "markdown",
   "id": "85f165be",
   "metadata": {},
   "source": [
    "### Convert the all reviews into the Lower Case."
   ]
  },
  {
   "cell_type": "code",
   "execution_count": 47,
   "id": "8f61b484",
   "metadata": {},
   "outputs": [],
   "source": [
    "df['pre_process'] = df['Reviews'].apply(lambda x: \" \".join(x.lower() for x in str(x).split()))"
   ]
  },
  {
   "cell_type": "markdown",
   "id": "bd97df12",
   "metadata": {},
   "source": [
    "### Remove the HTML tags and URLs from the reviews."
   ]
  },
  {
   "cell_type": "code",
   "execution_count": 48,
   "id": "ac438f65",
   "metadata": {},
   "outputs": [],
   "source": [
    "from bs4 import BeautifulSoup\n",
    "df['pre_process']=df['pre_process'].apply(lambda x: BeautifulSoup(x).get_text())\n",
    "import re\n",
    "df['pre_process']=df['pre_process'].apply(lambda x: re.sub(r\"http\\S+\", \"\", x))"
   ]
  },
  {
   "cell_type": "markdown",
   "id": "b175f521",
   "metadata": {},
   "source": [
    "### Perform the Contractions on the reviews."
   ]
  },
  {
   "cell_type": "code",
   "execution_count": 49,
   "id": "adb72c95",
   "metadata": {},
   "outputs": [],
   "source": [
    "def contractions(s):\n",
    " s = re.sub(r\"won't\", \"will not\",s)\n",
    " s = re.sub(r\"would't\", \"would not\",s)\n",
    " s = re.sub(r\"could't\", \"could not\",s)\n",
    " s = re.sub(r\"\\'d\", \"would\",s)\n",
    " s = re.sub(r\"can\\'t\", \"can not\",s)\n",
    " s = re.sub(r\"n\\'t\", \" not\", s)\n",
    " s= re.sub(r\"\\'re\", \" are\", s)\n",
    " s = re.sub(r\"\\'s\", \" is\", s)\n",
    " s = re.sub(r\"\\'ll\", \" will\", s)\n",
    " s = re.sub(r\"\\'t\", \" not\", s)\n",
    " s = re.sub(r\"\\'ve\", \" have\", s)\n",
    " s = re.sub(r\"\\'m\", \" am\", s)\n",
    " return s\n",
    "df['pre_process']=df['pre_process'].apply(lambda x:contractions(x))"
   ]
  },
  {
   "cell_type": "markdown",
   "id": "2484c980",
   "metadata": {},
   "source": [
    "## Remove non-alpha characters"
   ]
  },
  {
   "cell_type": "code",
   "execution_count": 50,
   "id": "5aa25df1",
   "metadata": {},
   "outputs": [],
   "source": [
    "df['pre_process']=df['pre_process'].apply(lambda x: \" \".join([re.sub('[^A-Za-z]+','', x) for x in nltk.word_tokenize(x)]))"
   ]
  },
  {
   "cell_type": "markdown",
   "id": "a9d34f14",
   "metadata": {},
   "source": [
    "## Remove the extra spaces between the words"
   ]
  },
  {
   "cell_type": "code",
   "execution_count": 51,
   "id": "f183d4f3",
   "metadata": {},
   "outputs": [],
   "source": [
    "df['pre_process']=df['pre_process'].apply(lambda x: re.sub(' +', ' ', x))"
   ]
  },
  {
   "cell_type": "markdown",
   "id": "d7bdfed0",
   "metadata": {},
   "source": [
    "## Remove the stop words by using the NLTK package"
   ]
  },
  {
   "cell_type": "code",
   "execution_count": 52,
   "id": "a7583b27",
   "metadata": {},
   "outputs": [],
   "source": [
    "from nltk.corpus import stopwords\n",
    "stop = stopwords.words('english')\n",
    "df['pre_process']=df['pre_process'].apply(lambda x: \" \".join([x for x in x.split() if x not in stop]))"
   ]
  },
  {
   "cell_type": "markdown",
   "id": "d79015a9",
   "metadata": {},
   "source": [
    "## Perform lemmatization using the wordnet lemmatizer"
   ]
  },
  {
   "cell_type": "code",
   "execution_count": 53,
   "id": "616a936c",
   "metadata": {},
   "outputs": [],
   "source": [
    "from nltk.stem import WordNetLemmatizer\n",
    "lemmatizer = WordNetLemmatizer()\n",
    "df['pre_process']=df['pre_process'].apply(lambda x: \" \".join([lemmatizer.lemmatize(w) for w in nltk.word_tokenize(x)]))"
   ]
  },
  {
   "cell_type": "code",
   "execution_count": 54,
   "id": "47ea8325",
   "metadata": {},
   "outputs": [
    {
     "data": {
      "text/html": [
       "<div>\n",
       "<style scoped>\n",
       "    .dataframe tbody tr th:only-of-type {\n",
       "        vertical-align: middle;\n",
       "    }\n",
       "\n",
       "    .dataframe tbody tr th {\n",
       "        vertical-align: top;\n",
       "    }\n",
       "\n",
       "    .dataframe thead th {\n",
       "        text-align: right;\n",
       "    }\n",
       "</style>\n",
       "<table border=\"1\" class=\"dataframe\">\n",
       "  <thead>\n",
       "    <tr style=\"text-align: right;\">\n",
       "      <th></th>\n",
       "      <th>Ratings</th>\n",
       "      <th>Reviews</th>\n",
       "      <th>label</th>\n",
       "      <th>pre_process</th>\n",
       "    </tr>\n",
       "  </thead>\n",
       "  <tbody>\n",
       "    <tr>\n",
       "      <th>0</th>\n",
       "      <td>5</td>\n",
       "      <td>Big billion day makes this phone even more val...</td>\n",
       "      <td>1</td>\n",
       "      <td>big billion day make phone even valuable</td>\n",
       "    </tr>\n",
       "    <tr>\n",
       "      <th>1</th>\n",
       "      <td>5</td>\n",
       "      <td>Every thing is fine n more then expected...</td>\n",
       "      <td>1</td>\n",
       "      <td>every thing fine n expected</td>\n",
       "    </tr>\n",
       "    <tr>\n",
       "      <th>2</th>\n",
       "      <td>2</td>\n",
       "      <td>Has many drawbacks. Apps developed for iPhone ...</td>\n",
       "      <td>0</td>\n",
       "      <td>many drawback apps developed iphone indian com...</td>\n",
       "    </tr>\n",
       "    <tr>\n",
       "      <th>3</th>\n",
       "      <td>5</td>\n",
       "      <td>The phone was in superb condition... im lovin ...</td>\n",
       "      <td>1</td>\n",
       "      <td>phone superb condition im lovin product</td>\n",
       "    </tr>\n",
       "    <tr>\n",
       "      <th>4</th>\n",
       "      <td>5</td>\n",
       "      <td>Great Product.</td>\n",
       "      <td>1</td>\n",
       "      <td>great product</td>\n",
       "    </tr>\n",
       "    <tr>\n",
       "      <th>...</th>\n",
       "      <td>...</td>\n",
       "      <td>...</td>\n",
       "      <td>...</td>\n",
       "      <td>...</td>\n",
       "    </tr>\n",
       "    <tr>\n",
       "      <th>36435</th>\n",
       "      <td>5</td>\n",
       "      <td>This product is just amazingðŸ˜™</td>\n",
       "      <td>1</td>\n",
       "      <td>product amazing</td>\n",
       "    </tr>\n",
       "    <tr>\n",
       "      <th>36436</th>\n",
       "      <td>5</td>\n",
       "      <td>Very tactile\\n \\n \\n\\n\\n\\n</td>\n",
       "      <td>1</td>\n",
       "      <td>tactile</td>\n",
       "    </tr>\n",
       "    <tr>\n",
       "      <th>36437</th>\n",
       "      <td>5</td>\n",
       "      <td>Very good according to price and features!! On...</td>\n",
       "      <td>1</td>\n",
       "      <td>good according price feature one best phone ph...</td>\n",
       "    </tr>\n",
       "    <tr>\n",
       "      <th>36438</th>\n",
       "      <td>5</td>\n",
       "      <td>Original!! Rest no need to explain.. Apple Nam...</td>\n",
       "      <td>1</td>\n",
       "      <td>original rest need explain apple name enough</td>\n",
       "    </tr>\n",
       "    <tr>\n",
       "      <th>36439</th>\n",
       "      <td>5</td>\n",
       "      <td>At times I lose the screen light and can't see...</td>\n",
       "      <td>1</td>\n",
       "      <td>time lose screen light see anything</td>\n",
       "    </tr>\n",
       "  </tbody>\n",
       "</table>\n",
       "<p>35685 rows × 4 columns</p>\n",
       "</div>"
      ],
      "text/plain": [
       "       Ratings                                            Reviews  label  \\\n",
       "0            5  Big billion day makes this phone even more val...      1   \n",
       "1            5        Every thing is fine n more then expected...      1   \n",
       "2            2  Has many drawbacks. Apps developed for iPhone ...      0   \n",
       "3            5  The phone was in superb condition... im lovin ...      1   \n",
       "4            5                                     Great Product.      1   \n",
       "...        ...                                                ...    ...   \n",
       "36435        5                   This product is just amazingðŸ˜™      1   \n",
       "36436        5                         Very tactile\\n \\n \\n\\n\\n\\n      1   \n",
       "36437        5  Very good according to price and features!! On...      1   \n",
       "36438        5  Original!! Rest no need to explain.. Apple Nam...      1   \n",
       "36439        5  At times I lose the screen light and can't see...      1   \n",
       "\n",
       "                                             pre_process  \n",
       "0               big billion day make phone even valuable  \n",
       "1                            every thing fine n expected  \n",
       "2      many drawback apps developed iphone indian com...  \n",
       "3                phone superb condition im lovin product  \n",
       "4                                          great product  \n",
       "...                                                  ...  \n",
       "36435                                    product amazing  \n",
       "36436                                            tactile  \n",
       "36437  good according price feature one best phone ph...  \n",
       "36438       original rest need explain apple name enough  \n",
       "36439                time lose screen light see anything  \n",
       "\n",
       "[35685 rows x 4 columns]"
      ]
     },
     "execution_count": 54,
     "metadata": {},
     "output_type": "execute_result"
    }
   ],
   "source": [
    "df"
   ]
  },
  {
   "cell_type": "markdown",
   "id": "c768cb96",
   "metadata": {},
   "source": [
    "# Creating the TF-IDF model"
   ]
  },
  {
   "cell_type": "code",
   "execution_count": 55,
   "id": "6677a1fd",
   "metadata": {},
   "outputs": [],
   "source": [
    "from sklearn.feature_extraction.text import TfidfVectorizer\n",
    "cv = TfidfVectorizer()\n",
    "X = cv.fit_transform(df['pre_process'])"
   ]
  },
  {
   "cell_type": "code",
   "execution_count": 56,
   "id": "30baf672",
   "metadata": {},
   "outputs": [
    {
     "data": {
      "text/plain": [
       "<35685x13571 sparse matrix of type '<class 'numpy.float64'>'\n",
       "\twith 406706 stored elements in Compressed Sparse Row format>"
      ]
     },
     "execution_count": 56,
     "metadata": {},
     "output_type": "execute_result"
    }
   ],
   "source": [
    "X"
   ]
  },
  {
   "cell_type": "markdown",
   "id": "3d733c3d",
   "metadata": {},
   "source": [
    "# Creating the Bag of Words model"
   ]
  },
  {
   "cell_type": "code",
   "execution_count": 57,
   "id": "51c7f74f",
   "metadata": {},
   "outputs": [],
   "source": [
    "from sklearn.feature_extraction.text import CountVectorizer\n",
    "cv = CountVectorizer(max_features = 1500)\n",
    "X = cv.fit_transform(df['pre_process'])"
   ]
  },
  {
   "cell_type": "markdown",
   "id": "836d126a",
   "metadata": {},
   "source": [
    "# Apply Sentiment Analysis"
   ]
  },
  {
   "cell_type": "code",
   "execution_count": 58,
   "id": "4c3d4927",
   "metadata": {
    "scrolled": false
   },
   "outputs": [
    {
     "data": {
      "text/plain": [
       "0                                    (0.0, 0.1)\n",
       "1                   (0.15833333333333333, 0.45)\n",
       "2    (0.037179487179487165, 0.4794871794871795)\n",
       "3                                    (1.0, 1.0)\n",
       "4                                   (0.8, 0.75)\n",
       "Name: pre_process, dtype: object"
      ]
     },
     "execution_count": 58,
     "metadata": {},
     "output_type": "execute_result"
    }
   ],
   "source": [
    "df['pre_process'][:5].apply(lambda x: TextBlob(x).sentiment)"
   ]
  },
  {
   "cell_type": "code",
   "execution_count": 59,
   "id": "58b63229",
   "metadata": {},
   "outputs": [
    {
     "data": {
      "text/html": [
       "<div>\n",
       "<style scoped>\n",
       "    .dataframe tbody tr th:only-of-type {\n",
       "        vertical-align: middle;\n",
       "    }\n",
       "\n",
       "    .dataframe tbody tr th {\n",
       "        vertical-align: top;\n",
       "    }\n",
       "\n",
       "    .dataframe thead th {\n",
       "        text-align: right;\n",
       "    }\n",
       "</style>\n",
       "<table border=\"1\" class=\"dataframe\">\n",
       "  <thead>\n",
       "    <tr style=\"text-align: right;\">\n",
       "      <th></th>\n",
       "      <th>pre_process</th>\n",
       "      <th>sentiment</th>\n",
       "    </tr>\n",
       "  </thead>\n",
       "  <tbody>\n",
       "    <tr>\n",
       "      <th>0</th>\n",
       "      <td>big billion day make phone even valuable</td>\n",
       "      <td>0.000000</td>\n",
       "    </tr>\n",
       "    <tr>\n",
       "      <th>1</th>\n",
       "      <td>every thing fine n expected</td>\n",
       "      <td>0.158333</td>\n",
       "    </tr>\n",
       "    <tr>\n",
       "      <th>2</th>\n",
       "      <td>many drawback apps developed iphone indian com...</td>\n",
       "      <td>0.037179</td>\n",
       "    </tr>\n",
       "    <tr>\n",
       "      <th>3</th>\n",
       "      <td>phone superb condition im lovin product</td>\n",
       "      <td>1.000000</td>\n",
       "    </tr>\n",
       "    <tr>\n",
       "      <th>4</th>\n",
       "      <td>great product</td>\n",
       "      <td>0.800000</td>\n",
       "    </tr>\n",
       "  </tbody>\n",
       "</table>\n",
       "</div>"
      ],
      "text/plain": [
       "                                         pre_process  sentiment\n",
       "0           big billion day make phone even valuable   0.000000\n",
       "1                        every thing fine n expected   0.158333\n",
       "2  many drawback apps developed iphone indian com...   0.037179\n",
       "3            phone superb condition im lovin product   1.000000\n",
       "4                                      great product   0.800000"
      ]
     },
     "execution_count": 59,
     "metadata": {},
     "output_type": "execute_result"
    }
   ],
   "source": [
    "df['sentiment'] = df['pre_process'].apply(lambda x: TextBlob(x).sentiment[0] )\n",
    "df[['pre_process','sentiment']].head()"
   ]
  },
  {
   "cell_type": "code",
   "execution_count": 60,
   "id": "432d4ef3",
   "metadata": {},
   "outputs": [
    {
     "data": {
      "text/plain": [
       "0         7\n",
       "1         5\n",
       "2        59\n",
       "3         6\n",
       "4         2\n",
       "         ..\n",
       "36435     2\n",
       "36436     1\n",
       "36437    15\n",
       "36438     7\n",
       "36439     6\n",
       "Name: word_count, Length: 35685, dtype: int64"
      ]
     },
     "execution_count": 60,
     "metadata": {},
     "output_type": "execute_result"
    }
   ],
   "source": [
    "# how many words are in the sentence?\n",
    "df['word_count'] = df['pre_process'].str.split().apply(len)\n",
    "df['word_count']"
   ]
  },
  {
   "cell_type": "code",
   "execution_count": 61,
   "id": "7910b95a",
   "metadata": {
    "scrolled": true
   },
   "outputs": [
    {
     "data": {
      "text/html": [
       "<div>\n",
       "<style scoped>\n",
       "    .dataframe tbody tr th:only-of-type {\n",
       "        vertical-align: middle;\n",
       "    }\n",
       "\n",
       "    .dataframe tbody tr th {\n",
       "        vertical-align: top;\n",
       "    }\n",
       "\n",
       "    .dataframe thead th {\n",
       "        text-align: right;\n",
       "    }\n",
       "</style>\n",
       "<table border=\"1\" class=\"dataframe\">\n",
       "  <thead>\n",
       "    <tr style=\"text-align: right;\">\n",
       "      <th></th>\n",
       "      <th>Ratings</th>\n",
       "      <th>Reviews</th>\n",
       "      <th>label</th>\n",
       "      <th>pre_process</th>\n",
       "      <th>sentiment</th>\n",
       "      <th>word_count</th>\n",
       "    </tr>\n",
       "  </thead>\n",
       "  <tbody>\n",
       "    <tr>\n",
       "      <th>8145</th>\n",
       "      <td>5</td>\n",
       "      <td>dont buy from flipkart. replacement service is...</td>\n",
       "      <td>1</td>\n",
       "      <td>dont buy flipkart replacement service worst</td>\n",
       "      <td>-1.0</td>\n",
       "      <td>6</td>\n",
       "    </tr>\n",
       "    <tr>\n",
       "      <th>17951</th>\n",
       "      <td>1</td>\n",
       "      <td>Got a defective peace.\\n  \\n  Speakers not wor...</td>\n",
       "      <td>0</td>\n",
       "      <td>got defective peace speaker working pathetic e...</td>\n",
       "      <td>-1.0</td>\n",
       "      <td>7</td>\n",
       "    </tr>\n",
       "    <tr>\n",
       "      <th>11109</th>\n",
       "      <td>2</td>\n",
       "      <td>Battery Backup is worst issue with it</td>\n",
       "      <td>0</td>\n",
       "      <td>battery backup worst issue</td>\n",
       "      <td>-1.0</td>\n",
       "      <td>4</td>\n",
       "    </tr>\n",
       "    <tr>\n",
       "      <th>7398</th>\n",
       "      <td>3</td>\n",
       "      <td>batary backup very worst and there are lots of...</td>\n",
       "      <td>1</td>\n",
       "      <td>batary backup worst lot network connection iss...</td>\n",
       "      <td>-1.0</td>\n",
       "      <td>13</td>\n",
       "    </tr>\n",
       "    <tr>\n",
       "      <th>2090</th>\n",
       "      <td>3</td>\n",
       "      <td>Mic quality is so worst</td>\n",
       "      <td>1</td>\n",
       "      <td>mic quality worst</td>\n",
       "      <td>-1.0</td>\n",
       "      <td>3</td>\n",
       "    </tr>\n",
       "    <tr>\n",
       "      <th>...</th>\n",
       "      <td>...</td>\n",
       "      <td>...</td>\n",
       "      <td>...</td>\n",
       "      <td>...</td>\n",
       "      <td>...</td>\n",
       "      <td>...</td>\n",
       "    </tr>\n",
       "    <tr>\n",
       "      <th>32839</th>\n",
       "      <td>1</td>\n",
       "      <td>Awesome phone but overpriced. Apple should bri...</td>\n",
       "      <td>0</td>\n",
       "      <td>awesome phone overpriced apple bring price</td>\n",
       "      <td>1.0</td>\n",
       "      <td>6</td>\n",
       "    </tr>\n",
       "    <tr>\n",
       "      <th>1035</th>\n",
       "      <td>5</td>\n",
       "      <td>Best phone no.1\\n \\n \\n\\n   \\n  \\n</td>\n",
       "      <td>1</td>\n",
       "      <td>best phone</td>\n",
       "      <td>1.0</td>\n",
       "      <td>2</td>\n",
       "    </tr>\n",
       "    <tr>\n",
       "      <th>19463</th>\n",
       "      <td>5</td>\n",
       "      <td>It was excellent..\\n \\n \\n\\n\\n\\n</td>\n",
       "      <td>1</td>\n",
       "      <td>excellent</td>\n",
       "      <td>1.0</td>\n",
       "      <td>1</td>\n",
       "    </tr>\n",
       "    <tr>\n",
       "      <th>10895</th>\n",
       "      <td>5</td>\n",
       "      <td>Excellent as always Flipkart\\n \\n \\n\\n\\n\\n</td>\n",
       "      <td>1</td>\n",
       "      <td>excellent always flipkart</td>\n",
       "      <td>1.0</td>\n",
       "      <td>3</td>\n",
       "    </tr>\n",
       "    <tr>\n",
       "      <th>14015</th>\n",
       "      <td>5</td>\n",
       "      <td>Wonderful phone</td>\n",
       "      <td>1</td>\n",
       "      <td>wonderful phone</td>\n",
       "      <td>1.0</td>\n",
       "      <td>2</td>\n",
       "    </tr>\n",
       "  </tbody>\n",
       "</table>\n",
       "<p>35685 rows × 6 columns</p>\n",
       "</div>"
      ],
      "text/plain": [
       "       Ratings                                            Reviews  label  \\\n",
       "8145         5  dont buy from flipkart. replacement service is...      1   \n",
       "17951        1  Got a defective peace.\\n  \\n  Speakers not wor...      0   \n",
       "11109        2              Battery Backup is worst issue with it      0   \n",
       "7398         3  batary backup very worst and there are lots of...      1   \n",
       "2090         3                            Mic quality is so worst      1   \n",
       "...        ...                                                ...    ...   \n",
       "32839        1  Awesome phone but overpriced. Apple should bri...      0   \n",
       "1035         5                 Best phone no.1\\n \\n \\n\\n   \\n  \\n      1   \n",
       "19463        5                   It was excellent..\\n \\n \\n\\n\\n\\n      1   \n",
       "10895        5         Excellent as always Flipkart\\n \\n \\n\\n\\n\\n      1   \n",
       "14015        5                                    Wonderful phone      1   \n",
       "\n",
       "                                             pre_process  sentiment  \\\n",
       "8145         dont buy flipkart replacement service worst       -1.0   \n",
       "17951  got defective peace speaker working pathetic e...       -1.0   \n",
       "11109                         battery backup worst issue       -1.0   \n",
       "7398   batary backup worst lot network connection iss...       -1.0   \n",
       "2090                                   mic quality worst       -1.0   \n",
       "...                                                  ...        ...   \n",
       "32839         awesome phone overpriced apple bring price        1.0   \n",
       "1035                                          best phone        1.0   \n",
       "19463                                          excellent        1.0   \n",
       "10895                          excellent always flipkart        1.0   \n",
       "14015                                    wonderful phone        1.0   \n",
       "\n",
       "       word_count  \n",
       "8145            6  \n",
       "17951           7  \n",
       "11109           4  \n",
       "7398           13  \n",
       "2090            3  \n",
       "...           ...  \n",
       "32839           6  \n",
       "1035            2  \n",
       "19463           1  \n",
       "10895           3  \n",
       "14015           2  \n",
       "\n",
       "[35685 rows x 6 columns]"
      ]
     },
     "execution_count": 61,
     "metadata": {},
     "output_type": "execute_result"
    }
   ],
   "source": [
    "df.sort_values(by='sentiment')"
   ]
  },
  {
   "cell_type": "code",
   "execution_count": 62,
   "id": "d11b84b1",
   "metadata": {
    "scrolled": true
   },
   "outputs": [
    {
     "name": "stderr",
     "output_type": "stream",
     "text": [
      "C:\\ProgramData\\Anaconda3\\lib\\site-packages\\seaborn\\distributions.py:2619: FutureWarning: `distplot` is a deprecated function and will be removed in a future version. Please adapt your code to use either `displot` (a figure-level function with similar flexibility) or `histplot` (an axes-level function for histograms).\n",
      "  warnings.warn(msg, FutureWarning)\n"
     ]
    },
    {
     "data": {
      "text/plain": [
       "<AxesSubplot:xlabel='sentiment', ylabel='Density'>"
      ]
     },
     "execution_count": 62,
     "metadata": {},
     "output_type": "execute_result"
    },
    {
     "data": {
      "image/png": "[encoded data removed]",
      "text/plain": [
       "<Figure size 720x432 with 1 Axes>"
      ]
     },
     "metadata": {},
     "output_type": "display_data"
    }
   ],
   "source": [
    "# Checking the distribution of reviews \n",
    "\n",
    "import seaborn as sns\n",
    "sns.set(rc={'figure.figsize':(10,6)})\n",
    "sns.distplot(df['sentiment'])"
   ]
  },
  {
   "cell_type": "code",
   "execution_count": 65,
   "id": "7099372e",
   "metadata": {},
   "outputs": [
    {
     "name": "stderr",
     "output_type": "stream",
     "text": [
      "*c* argument looks like a single numeric RGB or RGBA sequence, which should be avoided as value-mapping will have precedence in case its length matches with *x* & *y*.  Please use the *color* keyword-argument or provide a 2D array with a single row if you intend to specify the same RGB or RGBA value for all points.\n"
     ]
    },
    {
     "data": {
      "text/plain": [
       "<AxesSubplot:title={'center':'Sentence sentiment value to sentence word count'}, xlabel='word_count', ylabel='sentiment'>"
      ]
     },
     "execution_count": 65,
     "metadata": {},
     "output_type": "execute_result"
    },
    {
     "data": {
      "image/png": "[encoded data removed]",
      "text/plain": [
       "<Figure size 1080x720 with 1 Axes>"
      ]
     },
     "metadata": {},
     "output_type": "display_data"
    }
   ],
   "source": [
    "df.plot.scatter(x='word_count', y='sentiment', figsize=(15,10), title='Sentence sentiment value to sentence word count')"
   ]
  },
  {
   "cell_type": "code",
   "execution_count": 66,
   "id": "dea06c30",
   "metadata": {},
   "outputs": [],
   "source": [
    "# This function will return sentiment category based on values in sentiment_value column\n",
    "\n",
    "def sentiment_cat(row):\n",
    "    \n",
    "    '''This function returns sentiment category based on values in sentiment_value column'''\n",
    "    \n",
    "    if row['sentiment'] < 0:\n",
    "        val = 'Negative'\n",
    "    elif row['sentiment'] == 0: \n",
    "        val = 'Neutral'\n",
    "    elif row['sentiment'] > 0:\n",
    "        val = 'Positive'\n",
    "    else:\n",
    "        val = -1\n",
    "    return val"
   ]
  },
  {
   "cell_type": "code",
   "execution_count": 67,
   "id": "77d69467",
   "metadata": {},
   "outputs": [
    {
     "data": {
      "text/html": [
       "<div>\n",
       "<style scoped>\n",
       "    .dataframe tbody tr th:only-of-type {\n",
       "        vertical-align: middle;\n",
       "    }\n",
       "\n",
       "    .dataframe tbody tr th {\n",
       "        vertical-align: top;\n",
       "    }\n",
       "\n",
       "    .dataframe thead th {\n",
       "        text-align: right;\n",
       "    }\n",
       "</style>\n",
       "<table border=\"1\" class=\"dataframe\">\n",
       "  <thead>\n",
       "    <tr style=\"text-align: right;\">\n",
       "      <th></th>\n",
       "      <th>Ratings</th>\n",
       "      <th>Reviews</th>\n",
       "      <th>label</th>\n",
       "      <th>pre_process</th>\n",
       "      <th>sentiment</th>\n",
       "      <th>word_count</th>\n",
       "      <th>index</th>\n",
       "      <th>sentiment_category</th>\n",
       "    </tr>\n",
       "  </thead>\n",
       "  <tbody>\n",
       "    <tr>\n",
       "      <th>0</th>\n",
       "      <td>5</td>\n",
       "      <td>Big billion day makes this phone even more val...</td>\n",
       "      <td>1</td>\n",
       "      <td>big billion day make phone even valuable</td>\n",
       "      <td>0.000000</td>\n",
       "      <td>7</td>\n",
       "      <td>0</td>\n",
       "      <td>Neutral</td>\n",
       "    </tr>\n",
       "    <tr>\n",
       "      <th>1</th>\n",
       "      <td>5</td>\n",
       "      <td>Every thing is fine n more then expected...</td>\n",
       "      <td>1</td>\n",
       "      <td>every thing fine n expected</td>\n",
       "      <td>0.158333</td>\n",
       "      <td>5</td>\n",
       "      <td>1</td>\n",
       "      <td>Positive</td>\n",
       "    </tr>\n",
       "    <tr>\n",
       "      <th>2</th>\n",
       "      <td>2</td>\n",
       "      <td>Has many drawbacks. Apps developed for iPhone ...</td>\n",
       "      <td>0</td>\n",
       "      <td>many drawback apps developed iphone indian com...</td>\n",
       "      <td>0.037179</td>\n",
       "      <td>59</td>\n",
       "      <td>2</td>\n",
       "      <td>Positive</td>\n",
       "    </tr>\n",
       "    <tr>\n",
       "      <th>3</th>\n",
       "      <td>5</td>\n",
       "      <td>The phone was in superb condition... im lovin ...</td>\n",
       "      <td>1</td>\n",
       "      <td>phone superb condition im lovin product</td>\n",
       "      <td>1.000000</td>\n",
       "      <td>6</td>\n",
       "      <td>3</td>\n",
       "      <td>Positive</td>\n",
       "    </tr>\n",
       "    <tr>\n",
       "      <th>4</th>\n",
       "      <td>5</td>\n",
       "      <td>Great Product.</td>\n",
       "      <td>1</td>\n",
       "      <td>great product</td>\n",
       "      <td>0.800000</td>\n",
       "      <td>2</td>\n",
       "      <td>4</td>\n",
       "      <td>Positive</td>\n",
       "    </tr>\n",
       "    <tr>\n",
       "      <th>...</th>\n",
       "      <td>...</td>\n",
       "      <td>...</td>\n",
       "      <td>...</td>\n",
       "      <td>...</td>\n",
       "      <td>...</td>\n",
       "      <td>...</td>\n",
       "      <td>...</td>\n",
       "      <td>...</td>\n",
       "    </tr>\n",
       "    <tr>\n",
       "      <th>36435</th>\n",
       "      <td>5</td>\n",
       "      <td>This product is just amazingðŸ˜™</td>\n",
       "      <td>1</td>\n",
       "      <td>product amazing</td>\n",
       "      <td>0.600000</td>\n",
       "      <td>2</td>\n",
       "      <td>35680</td>\n",
       "      <td>Positive</td>\n",
       "    </tr>\n",
       "    <tr>\n",
       "      <th>36436</th>\n",
       "      <td>5</td>\n",
       "      <td>Very tactile\\n \\n \\n\\n\\n\\n</td>\n",
       "      <td>1</td>\n",
       "      <td>tactile</td>\n",
       "      <td>0.000000</td>\n",
       "      <td>1</td>\n",
       "      <td>35681</td>\n",
       "      <td>Neutral</td>\n",
       "    </tr>\n",
       "    <tr>\n",
       "      <th>36437</th>\n",
       "      <td>5</td>\n",
       "      <td>Very good according to price and features!! On...</td>\n",
       "      <td>1</td>\n",
       "      <td>good according price feature one best phone ph...</td>\n",
       "      <td>0.650000</td>\n",
       "      <td>15</td>\n",
       "      <td>35682</td>\n",
       "      <td>Positive</td>\n",
       "    </tr>\n",
       "    <tr>\n",
       "      <th>36438</th>\n",
       "      <td>5</td>\n",
       "      <td>Original!! Rest no need to explain.. Apple Nam...</td>\n",
       "      <td>1</td>\n",
       "      <td>original rest need explain apple name enough</td>\n",
       "      <td>0.187500</td>\n",
       "      <td>7</td>\n",
       "      <td>35683</td>\n",
       "      <td>Positive</td>\n",
       "    </tr>\n",
       "    <tr>\n",
       "      <th>36439</th>\n",
       "      <td>5</td>\n",
       "      <td>At times I lose the screen light and can't see...</td>\n",
       "      <td>1</td>\n",
       "      <td>time lose screen light see anything</td>\n",
       "      <td>0.400000</td>\n",
       "      <td>6</td>\n",
       "      <td>35684</td>\n",
       "      <td>Positive</td>\n",
       "    </tr>\n",
       "  </tbody>\n",
       "</table>\n",
       "<p>35685 rows × 8 columns</p>\n",
       "</div>"
      ],
      "text/plain": [
       "       Ratings                                            Reviews  label  \\\n",
       "0            5  Big billion day makes this phone even more val...      1   \n",
       "1            5        Every thing is fine n more then expected...      1   \n",
       "2            2  Has many drawbacks. Apps developed for iPhone ...      0   \n",
       "3            5  The phone was in superb condition... im lovin ...      1   \n",
       "4            5                                     Great Product.      1   \n",
       "...        ...                                                ...    ...   \n",
       "36435        5                   This product is just amazingðŸ˜™      1   \n",
       "36436        5                         Very tactile\\n \\n \\n\\n\\n\\n      1   \n",
       "36437        5  Very good according to price and features!! On...      1   \n",
       "36438        5  Original!! Rest no need to explain.. Apple Nam...      1   \n",
       "36439        5  At times I lose the screen light and can't see...      1   \n",
       "\n",
       "                                             pre_process  sentiment  \\\n",
       "0               big billion day make phone even valuable   0.000000   \n",
       "1                            every thing fine n expected   0.158333   \n",
       "2      many drawback apps developed iphone indian com...   0.037179   \n",
       "3                phone superb condition im lovin product   1.000000   \n",
       "4                                          great product   0.800000   \n",
       "...                                                  ...        ...   \n",
       "36435                                    product amazing   0.600000   \n",
       "36436                                            tactile   0.000000   \n",
       "36437  good according price feature one best phone ph...   0.650000   \n",
       "36438       original rest need explain apple name enough   0.187500   \n",
       "36439                time lose screen light see anything   0.400000   \n",
       "\n",
       "       word_count  index sentiment_category  \n",
       "0               7      0            Neutral  \n",
       "1               5      1           Positive  \n",
       "2              59      2           Positive  \n",
       "3               6      3           Positive  \n",
       "4               2      4           Positive  \n",
       "...           ...    ...                ...  \n",
       "36435           2  35680           Positive  \n",
       "36436           1  35681            Neutral  \n",
       "36437          15  35682           Positive  \n",
       "36438           7  35683           Positive  \n",
       "36439           6  35684           Positive  \n",
       "\n",
       "[35685 rows x 8 columns]"
      ]
     },
     "execution_count": 67,
     "metadata": {},
     "output_type": "execute_result"
    }
   ],
   "source": [
    "#Applying the function in our new column\n",
    "df['sentiment_category'] = df.apply(sentiment_cat, axis=1)\n",
    "df"
   ]
  },
  {
   "cell_type": "code",
   "execution_count": 68,
   "id": "8867efd1",
   "metadata": {},
   "outputs": [
    {
     "data": {
      "text/plain": [
       "Positive    29109\n",
       "Neutral      3903\n",
       "Negative     2673\n",
       "Name: sentiment_category, dtype: int64"
      ]
     },
     "execution_count": 68,
     "metadata": {},
     "output_type": "execute_result"
    }
   ],
   "source": [
    "df['sentiment_category'].value_counts()"
   ]
  }
 ],
 "metadata": {
  "kernelspec": {
   "display_name": "Python 3 (ipykernel)",
   "language": "python",
   "name": "python3"
  },
  "language_info": {
   "codemirror_mode": {
    "name": "ipython",
    "version": 3
   },
   "file_extension": ".py",
   "mimetype": "text/x-python",
   "name": "python",
   "nbconvert_exporter": "python",
   "pygments_lexer": "ipython3",
   "version": "3.9.7"
  }
 },
 "nbformat": 4,
 "nbformat_minor": 5
}
