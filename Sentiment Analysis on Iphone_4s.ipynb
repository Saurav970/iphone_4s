{
 "cells": [
  {
   "cell_type": "markdown",
   "id": "e89b1236",
   "metadata": {},
   "source": [
    "# Import the Required Packages"
   ]
  },
  {
   "cell_type": "code",
   "execution_count": 56,
   "id": "b7b87406",
   "metadata": {},
   "outputs": [],
   "source": [
    "import numpy as np\n",
    "import pandas as pd\n",
    "# For visualizations\n",
    "import matplotlib.pyplot as plt\n",
    "# For regular expressions\n",
    "import re\n",
    "# For handling string\n",
    "import string\n",
    "# For performing mathematical operations\n",
    "import math\n",
    "#for natural language processing\n",
    "import nltk"
   ]
  },
  {
   "cell_type": "code",
   "execution_count": 42,
   "id": "538d1e66",
   "metadata": {},
   "outputs": [
    {
     "name": "stdout",
     "output_type": "stream",
     "text": [
      "Shape of data=> (36440, 2)\n"
     ]
    }
   ],
   "source": [
    "# Importing dataset\n",
    "df=pd.read_excel('Iphone_4s_Reviews.xlsx') \n",
    "print(\"Shape of data=>\",df.shape)"
   ]
  },
  {
   "cell_type": "code",
   "execution_count": 43,
   "id": "83534b8b",
   "metadata": {},
   "outputs": [
    {
     "data": {
      "text/html": [
       "<div>\n",
       "<style scoped>\n",
       "    .dataframe tbody tr th:only-of-type {\n",
       "        vertical-align: middle;\n",
       "    }\n",
       "\n",
       "    .dataframe tbody tr th {\n",
       "        vertical-align: top;\n",
       "    }\n",
       "\n",
       "    .dataframe thead th {\n",
       "        text-align: right;\n",
       "    }\n",
       "</style>\n",
       "<table border=\"1\" class=\"dataframe\">\n",
       "  <thead>\n",
       "    <tr style=\"text-align: right;\">\n",
       "      <th></th>\n",
       "      <th>Ratings</th>\n",
       "      <th>Reviews</th>\n",
       "    </tr>\n",
       "  </thead>\n",
       "  <tbody>\n",
       "    <tr>\n",
       "      <th>0</th>\n",
       "      <td>5</td>\n",
       "      <td>Big billion day makes this phone even more val...</td>\n",
       "    </tr>\n",
       "    <tr>\n",
       "      <th>1</th>\n",
       "      <td>5</td>\n",
       "      <td>Every thing is fine n more then expected...</td>\n",
       "    </tr>\n",
       "    <tr>\n",
       "      <th>2</th>\n",
       "      <td>2</td>\n",
       "      <td>Has many drawbacks. Apps developed for iPhone ...</td>\n",
       "    </tr>\n",
       "    <tr>\n",
       "      <th>3</th>\n",
       "      <td>5</td>\n",
       "      <td>The phone was in superb condition... im lovin ...</td>\n",
       "    </tr>\n",
       "    <tr>\n",
       "      <th>4</th>\n",
       "      <td>5</td>\n",
       "      <td>Great Product.</td>\n",
       "    </tr>\n",
       "    <tr>\n",
       "      <th>...</th>\n",
       "      <td>...</td>\n",
       "      <td>...</td>\n",
       "    </tr>\n",
       "    <tr>\n",
       "      <th>36435</th>\n",
       "      <td>5</td>\n",
       "      <td>This product is just amazingðŸ˜™</td>\n",
       "    </tr>\n",
       "    <tr>\n",
       "      <th>36436</th>\n",
       "      <td>5</td>\n",
       "      <td>Very tactile\\n \\n \\n\\n\\n\\n</td>\n",
       "    </tr>\n",
       "    <tr>\n",
       "      <th>36437</th>\n",
       "      <td>5</td>\n",
       "      <td>Very good according to price and features!! On...</td>\n",
       "    </tr>\n",
       "    <tr>\n",
       "      <th>36438</th>\n",
       "      <td>5</td>\n",
       "      <td>Original!! Rest no need to explain.. Apple Nam...</td>\n",
       "    </tr>\n",
       "    <tr>\n",
       "      <th>36439</th>\n",
       "      <td>5</td>\n",
       "      <td>At times I lose the screen light and can't see...</td>\n",
       "    </tr>\n",
       "  </tbody>\n",
       "</table>\n",
       "<p>36440 rows × 2 columns</p>\n",
       "</div>"
      ],
      "text/plain": [
       "       Ratings                                            Reviews\n",
       "0            5  Big billion day makes this phone even more val...\n",
       "1            5        Every thing is fine n more then expected...\n",
       "2            2  Has many drawbacks. Apps developed for iPhone ...\n",
       "3            5  The phone was in superb condition... im lovin ...\n",
       "4            5                                     Great Product.\n",
       "...        ...                                                ...\n",
       "36435        5                   This product is just amazingðŸ˜™\n",
       "36436        5                         Very tactile\\n \\n \\n\\n\\n\\n\n",
       "36437        5  Very good according to price and features!! On...\n",
       "36438        5  Original!! Rest no need to explain.. Apple Nam...\n",
       "36439        5  At times I lose the screen light and can't see...\n",
       "\n",
       "[36440 rows x 2 columns]"
      ]
     },
     "execution_count": 43,
     "metadata": {},
     "output_type": "execute_result"
    }
   ],
   "source": [
    "df"
   ]
  },
  {
   "cell_type": "markdown",
   "id": "a6412c06",
   "metadata": {},
   "source": [
    "# Remove the Null, missing values"
   ]
  },
  {
   "cell_type": "code",
   "execution_count": 44,
   "id": "ee1c161f",
   "metadata": {},
   "outputs": [
    {
     "data": {
      "text/plain": [
       "Ratings      0\n",
       "Reviews    755\n",
       "dtype: int64"
      ]
     },
     "execution_count": 44,
     "metadata": {},
     "output_type": "execute_result"
    }
   ],
   "source": [
    "df.isnull().sum()"
   ]
  },
  {
   "cell_type": "code",
   "execution_count": 45,
   "id": "cf6fc488",
   "metadata": {},
   "outputs": [],
   "source": [
    "df.dropna(inplace=True)"
   ]
  },
  {
   "cell_type": "code",
   "execution_count": 46,
   "id": "0564640e",
   "metadata": {},
   "outputs": [
    {
     "data": {
      "text/plain": [
       "Ratings    0\n",
       "Reviews    0\n",
       "dtype: int64"
      ]
     },
     "execution_count": 46,
     "metadata": {},
     "output_type": "execute_result"
    }
   ],
   "source": [
    "df.isnull().sum()"
   ]
  },
  {
   "cell_type": "code",
   "execution_count": 47,
   "id": "dd5ee906",
   "metadata": {},
   "outputs": [
    {
     "data": {
      "text/html": [
       "<div>\n",
       "<style scoped>\n",
       "    .dataframe tbody tr th:only-of-type {\n",
       "        vertical-align: middle;\n",
       "    }\n",
       "\n",
       "    .dataframe tbody tr th {\n",
       "        vertical-align: top;\n",
       "    }\n",
       "\n",
       "    .dataframe thead th {\n",
       "        text-align: right;\n",
       "    }\n",
       "</style>\n",
       "<table border=\"1\" class=\"dataframe\">\n",
       "  <thead>\n",
       "    <tr style=\"text-align: right;\">\n",
       "      <th></th>\n",
       "      <th>Ratings</th>\n",
       "      <th>Reviews</th>\n",
       "    </tr>\n",
       "  </thead>\n",
       "  <tbody>\n",
       "    <tr>\n",
       "      <th>0</th>\n",
       "      <td>5</td>\n",
       "      <td>Big billion day makes this phone even more val...</td>\n",
       "    </tr>\n",
       "    <tr>\n",
       "      <th>1</th>\n",
       "      <td>5</td>\n",
       "      <td>Every thing is fine n more then expected...</td>\n",
       "    </tr>\n",
       "    <tr>\n",
       "      <th>2</th>\n",
       "      <td>2</td>\n",
       "      <td>Has many drawbacks. Apps developed for iPhone ...</td>\n",
       "    </tr>\n",
       "    <tr>\n",
       "      <th>3</th>\n",
       "      <td>5</td>\n",
       "      <td>The phone was in superb condition... im lovin ...</td>\n",
       "    </tr>\n",
       "    <tr>\n",
       "      <th>4</th>\n",
       "      <td>5</td>\n",
       "      <td>Great Product.</td>\n",
       "    </tr>\n",
       "    <tr>\n",
       "      <th>...</th>\n",
       "      <td>...</td>\n",
       "      <td>...</td>\n",
       "    </tr>\n",
       "    <tr>\n",
       "      <th>36435</th>\n",
       "      <td>5</td>\n",
       "      <td>This product is just amazingðŸ˜™</td>\n",
       "    </tr>\n",
       "    <tr>\n",
       "      <th>36436</th>\n",
       "      <td>5</td>\n",
       "      <td>Very tactile\\n \\n \\n\\n\\n\\n</td>\n",
       "    </tr>\n",
       "    <tr>\n",
       "      <th>36437</th>\n",
       "      <td>5</td>\n",
       "      <td>Very good according to price and features!! On...</td>\n",
       "    </tr>\n",
       "    <tr>\n",
       "      <th>36438</th>\n",
       "      <td>5</td>\n",
       "      <td>Original!! Rest no need to explain.. Apple Nam...</td>\n",
       "    </tr>\n",
       "    <tr>\n",
       "      <th>36439</th>\n",
       "      <td>5</td>\n",
       "      <td>At times I lose the screen light and can't see...</td>\n",
       "    </tr>\n",
       "  </tbody>\n",
       "</table>\n",
       "<p>35685 rows × 2 columns</p>\n",
       "</div>"
      ],
      "text/plain": [
       "       Ratings                                            Reviews\n",
       "0            5  Big billion day makes this phone even more val...\n",
       "1            5        Every thing is fine n more then expected...\n",
       "2            2  Has many drawbacks. Apps developed for iPhone ...\n",
       "3            5  The phone was in superb condition... im lovin ...\n",
       "4            5                                     Great Product.\n",
       "...        ...                                                ...\n",
       "36435        5                   This product is just amazingðŸ˜™\n",
       "36436        5                         Very tactile\\n \\n \\n\\n\\n\\n\n",
       "36437        5  Very good according to price and features!! On...\n",
       "36438        5  Original!! Rest no need to explain.. Apple Nam...\n",
       "36439        5  At times I lose the screen light and can't see...\n",
       "\n",
       "[35685 rows x 2 columns]"
      ]
     },
     "execution_count": 47,
     "metadata": {},
     "output_type": "execute_result"
    }
   ],
   "source": [
    "df"
   ]
  },
  {
   "cell_type": "markdown",
   "id": "3d1a0d56",
   "metadata": {},
   "source": [
    "# Labelling Reviews:\n",
    "\n",
    "Now we have 35,685 reviews. The reviews with star rating 4,5,3 are labelled as positive reviews and 1,2 are labelled as negative reviews."
   ]
  },
  {
   "cell_type": "code",
   "execution_count": 48,
   "id": "6aa7c0e3",
   "metadata": {},
   "outputs": [],
   "source": [
    "df['Ratings']=df['Ratings'].astype(int) #convert the star_rating column to int\n",
    "df=df[df['Ratings']!=0]\n",
    "df['label']=np.where(df['Ratings']>=3,1,0) #1-Positve,0-Negative"
   ]
  },
  {
   "cell_type": "code",
   "execution_count": 49,
   "id": "e04b1123",
   "metadata": {
    "scrolled": true
   },
   "outputs": [
    {
     "data": {
      "text/html": [
       "<div>\n",
       "<style scoped>\n",
       "    .dataframe tbody tr th:only-of-type {\n",
       "        vertical-align: middle;\n",
       "    }\n",
       "\n",
       "    .dataframe tbody tr th {\n",
       "        vertical-align: top;\n",
       "    }\n",
       "\n",
       "    .dataframe thead th {\n",
       "        text-align: right;\n",
       "    }\n",
       "</style>\n",
       "<table border=\"1\" class=\"dataframe\">\n",
       "  <thead>\n",
       "    <tr style=\"text-align: right;\">\n",
       "      <th></th>\n",
       "      <th>Ratings</th>\n",
       "      <th>Reviews</th>\n",
       "      <th>label</th>\n",
       "    </tr>\n",
       "  </thead>\n",
       "  <tbody>\n",
       "    <tr>\n",
       "      <th>0</th>\n",
       "      <td>5</td>\n",
       "      <td>Big billion day makes this phone even more val...</td>\n",
       "      <td>1</td>\n",
       "    </tr>\n",
       "    <tr>\n",
       "      <th>1</th>\n",
       "      <td>5</td>\n",
       "      <td>Every thing is fine n more then expected...</td>\n",
       "      <td>1</td>\n",
       "    </tr>\n",
       "    <tr>\n",
       "      <th>2</th>\n",
       "      <td>2</td>\n",
       "      <td>Has many drawbacks. Apps developed for iPhone ...</td>\n",
       "      <td>0</td>\n",
       "    </tr>\n",
       "    <tr>\n",
       "      <th>3</th>\n",
       "      <td>5</td>\n",
       "      <td>The phone was in superb condition... im lovin ...</td>\n",
       "      <td>1</td>\n",
       "    </tr>\n",
       "    <tr>\n",
       "      <th>4</th>\n",
       "      <td>5</td>\n",
       "      <td>Great Product.</td>\n",
       "      <td>1</td>\n",
       "    </tr>\n",
       "    <tr>\n",
       "      <th>...</th>\n",
       "      <td>...</td>\n",
       "      <td>...</td>\n",
       "      <td>...</td>\n",
       "    </tr>\n",
       "    <tr>\n",
       "      <th>36435</th>\n",
       "      <td>5</td>\n",
       "      <td>This product is just amazingðŸ˜™</td>\n",
       "      <td>1</td>\n",
       "    </tr>\n",
       "    <tr>\n",
       "      <th>36436</th>\n",
       "      <td>5</td>\n",
       "      <td>Very tactile\\n \\n \\n\\n\\n\\n</td>\n",
       "      <td>1</td>\n",
       "    </tr>\n",
       "    <tr>\n",
       "      <th>36437</th>\n",
       "      <td>5</td>\n",
       "      <td>Very good according to price and features!! On...</td>\n",
       "      <td>1</td>\n",
       "    </tr>\n",
       "    <tr>\n",
       "      <th>36438</th>\n",
       "      <td>5</td>\n",
       "      <td>Original!! Rest no need to explain.. Apple Nam...</td>\n",
       "      <td>1</td>\n",
       "    </tr>\n",
       "    <tr>\n",
       "      <th>36439</th>\n",
       "      <td>5</td>\n",
       "      <td>At times I lose the screen light and can't see...</td>\n",
       "      <td>1</td>\n",
       "    </tr>\n",
       "  </tbody>\n",
       "</table>\n",
       "<p>35685 rows × 3 columns</p>\n",
       "</div>"
      ],
      "text/plain": [
       "       Ratings                                            Reviews  label\n",
       "0            5  Big billion day makes this phone even more val...      1\n",
       "1            5        Every thing is fine n more then expected...      1\n",
       "2            2  Has many drawbacks. Apps developed for iPhone ...      0\n",
       "3            5  The phone was in superb condition... im lovin ...      1\n",
       "4            5                                     Great Product.      1\n",
       "...        ...                                                ...    ...\n",
       "36435        5                   This product is just amazingðŸ˜™      1\n",
       "36436        5                         Very tactile\\n \\n \\n\\n\\n\\n      1\n",
       "36437        5  Very good according to price and features!! On...      1\n",
       "36438        5  Original!! Rest no need to explain.. Apple Nam...      1\n",
       "36439        5  At times I lose the screen light and can't see...      1\n",
       "\n",
       "[35685 rows x 3 columns]"
      ]
     },
     "execution_count": 49,
     "metadata": {},
     "output_type": "execute_result"
    }
   ],
   "source": [
    "df"
   ]
  },
  {
   "cell_type": "markdown",
   "id": "2047e0a4",
   "metadata": {},
   "source": [
    "# Pre-Processing"
   ]
  },
  {
   "cell_type": "code",
   "execution_count": 50,
   "id": "f3ce8745",
   "metadata": {},
   "outputs": [],
   "source": [
    "# convert the all reviews into the lower case."
   ]
  },
  {
   "cell_type": "code",
   "execution_count": 51,
   "id": "8f61b484",
   "metadata": {},
   "outputs": [],
   "source": [
    "data['pre_process'] = data['Reviews'].apply(lambda x: \" \".join(x.lower() for x in str(x).split()))"
   ]
  },
  {
   "cell_type": "code",
   "execution_count": 52,
   "id": "73bcae40",
   "metadata": {},
   "outputs": [],
   "source": [
    "# Remove the HTML tags and URLs from the reviews."
   ]
  },
  {
   "cell_type": "code",
   "execution_count": 53,
   "id": "ac438f65",
   "metadata": {},
   "outputs": [],
   "source": [
    "from bs4 import BeautifulSoup\n",
    "data['pre_process']=data['pre_process'].apply(lambda x: BeautifulSoup(x).get_text())\n",
    "import re\n",
    "data['pre_process']=data['pre_process'].apply(lambda x: re.sub(r\"http\\S+\", \"\", x))"
   ]
  },
  {
   "cell_type": "code",
   "execution_count": 54,
   "id": "f4af9321",
   "metadata": {},
   "outputs": [],
   "source": [
    "# Perform the Contractions on the reviews."
   ]
  },
  {
   "cell_type": "code",
   "execution_count": 55,
   "id": "adb72c95",
   "metadata": {},
   "outputs": [],
   "source": [
    "def contractions(s):\n",
    " s = re.sub(r\"won't\", \"will not\",s)\n",
    " s = re.sub(r\"would't\", \"would not\",s)\n",
    " s = re.sub(r\"could't\", \"could not\",s)\n",
    " s = re.sub(r\"\\'d\", \"would\",s)\n",
    " s = re.sub(r\"can\\'t\", \"can not\",s)\n",
    " s = re.sub(r\"n\\'t\", \" not\", s)\n",
    " s= re.sub(r\"\\'re\", \" are\", s)\n",
    " s = re.sub(r\"\\'s\", \" is\", s)\n",
    " s = re.sub(r\"\\'ll\", \" will\", s)\n",
    " s = re.sub(r\"\\'t\", \" not\", s)\n",
    " s = re.sub(r\"\\'ve\", \" have\", s)\n",
    " s = re.sub(r\"\\'m\", \" am\", s)\n",
    " return s\n",
    "data['pre_process']=data['pre_process'].apply(lambda x:contractions(x))"
   ]
  },
  {
   "cell_type": "markdown",
   "id": "2484c980",
   "metadata": {},
   "source": [
    "# Remove non-alpha characters"
   ]
  },
  {
   "cell_type": "code",
   "execution_count": 57,
   "id": "5aa25df1",
   "metadata": {},
   "outputs": [],
   "source": [
    "data['pre_process']=data['pre_process'].apply(lambda x: \" \".join([re.sub('[^A-Za-z]+','', x) for x in nltk.word_tokenize(x)]))"
   ]
  },
  {
   "cell_type": "markdown",
   "id": "a9d34f14",
   "metadata": {},
   "source": [
    "# Remove the extra spaces between the words"
   ]
  },
  {
   "cell_type": "code",
   "execution_count": 59,
   "id": "f183d4f3",
   "metadata": {},
   "outputs": [],
   "source": [
    "data['pre_process']=data['pre_process'].apply(lambda x: re.sub(' +', ' ', x))"
   ]
  },
  {
   "cell_type": "markdown",
   "id": "d7bdfed0",
   "metadata": {},
   "source": [
    "# Remove the stop words by using the NLTK package"
   ]
  },
  {
   "cell_type": "code",
   "execution_count": 61,
   "id": "a7583b27",
   "metadata": {},
   "outputs": [],
   "source": [
    "from nltk.corpus import stopwords\n",
    "stop = stopwords.words('english')\n",
    "data['pre_process']=data['pre_process'].apply(lambda x: \" \".join([x for x in x.split() if x not in stop]))"
   ]
  },
  {
   "cell_type": "markdown",
   "id": "d79015a9",
   "metadata": {},
   "source": [
    "# Perform lemmatization using the wordnet lemmatizer"
   ]
  },
  {
   "cell_type": "code",
   "execution_count": 62,
   "id": "616a936c",
   "metadata": {},
   "outputs": [],
   "source": [
    "from nltk.stem import WordNetLemmatizer\n",
    "lemmatizer = WordNetLemmatizer()\n",
    "data['pre_process']=data['pre_process'].apply(lambda x: \" \".join([lemmatizer.lemmatize(w) for w in nltk.word_tokenize(x)]))"
   ]
  },
  {
   "cell_type": "code",
   "execution_count": 63,
   "id": "47ea8325",
   "metadata": {},
   "outputs": [
    {
     "data": {
      "text/html": [
       "<div>\n",
       "<style scoped>\n",
       "    .dataframe tbody tr th:only-of-type {\n",
       "        vertical-align: middle;\n",
       "    }\n",
       "\n",
       "    .dataframe tbody tr th {\n",
       "        vertical-align: top;\n",
       "    }\n",
       "\n",
       "    .dataframe thead th {\n",
       "        text-align: right;\n",
       "    }\n",
       "</style>\n",
       "<table border=\"1\" class=\"dataframe\">\n",
       "  <thead>\n",
       "    <tr style=\"text-align: right;\">\n",
       "      <th></th>\n",
       "      <th>Ratings</th>\n",
       "      <th>Reviews</th>\n",
       "      <th>label</th>\n",
       "      <th>pre_process</th>\n",
       "    </tr>\n",
       "  </thead>\n",
       "  <tbody>\n",
       "    <tr>\n",
       "      <th>0</th>\n",
       "      <td>1</td>\n",
       "      <td>Such waste mobile from apple. It will hang and...</td>\n",
       "      <td>0</td>\n",
       "      <td>waste mobile apple hang u use app space issue ...</td>\n",
       "    </tr>\n",
       "    <tr>\n",
       "      <th>1</th>\n",
       "      <td>1</td>\n",
       "      <td>Within a month charger didn't work ......</td>\n",
       "      <td>0</td>\n",
       "      <td>within month charger work</td>\n",
       "    </tr>\n",
       "    <tr>\n",
       "      <th>2</th>\n",
       "      <td>1</td>\n",
       "      <td>Battery not working properly gets discharged b...</td>\n",
       "      <td>0</td>\n",
       "      <td>battery working properly get discharged hour use</td>\n",
       "    </tr>\n",
       "    <tr>\n",
       "      <th>3</th>\n",
       "      <td>2</td>\n",
       "      <td>Planning  to order  iphone 4sS  Hows  the  bat...</td>\n",
       "      <td>0</td>\n",
       "      <td>planning order iphone s hows battery life comp...</td>\n",
       "    </tr>\n",
       "    <tr>\n",
       "      <th>4</th>\n",
       "      <td>1</td>\n",
       "      <td>4 inches.\\n  \\n  2013 design.\\n  \\n  No NFC.\\n...</td>\n",
       "      <td>0</td>\n",
       "      <td>inch design nfc bluetooth wireless charging ba...</td>\n",
       "    </tr>\n",
       "    <tr>\n",
       "      <th>...</th>\n",
       "      <td>...</td>\n",
       "      <td>...</td>\n",
       "      <td>...</td>\n",
       "      <td>...</td>\n",
       "    </tr>\n",
       "    <tr>\n",
       "      <th>19403</th>\n",
       "      <td>5</td>\n",
       "      <td>iPhone is always master in mobiles. It's reall...</td>\n",
       "      <td>1</td>\n",
       "      <td>iphone always master mobile really amazing tha...</td>\n",
       "    </tr>\n",
       "    <tr>\n",
       "      <th>19404</th>\n",
       "      <td>4</td>\n",
       "      <td>Battery has been the problem, 10% battery heal...</td>\n",
       "      <td>1</td>\n",
       "      <td>battery problem battery health month buy phone...</td>\n",
       "    </tr>\n",
       "    <tr>\n",
       "      <th>19405</th>\n",
       "      <td>5</td>\n",
       "      <td>Just have it to feel it\\n \\n \\n\\n\\n\\n</td>\n",
       "      <td>1</td>\n",
       "      <td>feel</td>\n",
       "    </tr>\n",
       "    <tr>\n",
       "      <th>19406</th>\n",
       "      <td>5</td>\n",
       "      <td>Well for a Day I was on Gas as my delivery for...</td>\n",
       "      <td>1</td>\n",
       "      <td>well day gas delivery delayed day already paid...</td>\n",
       "    </tr>\n",
       "    <tr>\n",
       "      <th>19407</th>\n",
       "      <td>4</td>\n",
       "      <td>Nice products battery life is very good. Camer...</td>\n",
       "      <td>1</td>\n",
       "      <td>nice product battery life good camera ok amazo...</td>\n",
       "    </tr>\n",
       "  </tbody>\n",
       "</table>\n",
       "<p>19408 rows × 4 columns</p>\n",
       "</div>"
      ],
      "text/plain": [
       "       Ratings                                            Reviews  label  \\\n",
       "0            1  Such waste mobile from apple. It will hang and...      0   \n",
       "1            1          Within a month charger didn't work ......      0   \n",
       "2            1  Battery not working properly gets discharged b...      0   \n",
       "3            2  Planning  to order  iphone 4sS  Hows  the  bat...      0   \n",
       "4            1  4 inches.\\n  \\n  2013 design.\\n  \\n  No NFC.\\n...      0   \n",
       "...        ...                                                ...    ...   \n",
       "19403        5  iPhone is always master in mobiles. It's reall...      1   \n",
       "19404        4  Battery has been the problem, 10% battery heal...      1   \n",
       "19405        5              Just have it to feel it\\n \\n \\n\\n\\n\\n      1   \n",
       "19406        5  Well for a Day I was on Gas as my delivery for...      1   \n",
       "19407        4  Nice products battery life is very good. Camer...      1   \n",
       "\n",
       "                                             pre_process  \n",
       "0      waste mobile apple hang u use app space issue ...  \n",
       "1                              within month charger work  \n",
       "2       battery working properly get discharged hour use  \n",
       "3      planning order iphone s hows battery life comp...  \n",
       "4      inch design nfc bluetooth wireless charging ba...  \n",
       "...                                                  ...  \n",
       "19403  iphone always master mobile really amazing tha...  \n",
       "19404  battery problem battery health month buy phone...  \n",
       "19405                                               feel  \n",
       "19406  well day gas delivery delayed day already paid...  \n",
       "19407  nice product battery life good camera ok amazo...  \n",
       "\n",
       "[19408 rows x 4 columns]"
      ]
     },
     "execution_count": 63,
     "metadata": {},
     "output_type": "execute_result"
    }
   ],
   "source": [
    "data"
   ]
  },
  {
   "cell_type": "code",
   "execution_count": null,
   "id": "6677a1fd",
   "metadata": {},
   "outputs": [],
   "source": []
  }
 ],
 "metadata": {
  "kernelspec": {
   "display_name": "Python 3 (ipykernel)",
   "language": "python",
   "name": "python3"
  },
  "language_info": {
   "codemirror_mode": {
    "name": "ipython",
    "version": 3
   },
   "file_extension": ".py",
   "mimetype": "text/x-python",
   "name": "python",
   "nbconvert_exporter": "python",
   "pygments_lexer": "ipython3",
   "version": "3.9.7"
  }
 },
 "nbformat": 4,
 "nbformat_minor": 5
}
